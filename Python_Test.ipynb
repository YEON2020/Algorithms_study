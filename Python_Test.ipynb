{
  "nbformat": 4,
  "nbformat_minor": 0,
  "metadata": {
    "colab": {
      "provenance": [],
      "authorship_tag": "ABX9TyN+VmWiUNCSRgnqMuhuQwUE",
      "include_colab_link": true
    },
    "kernelspec": {
      "name": "python3",
      "display_name": "Python 3"
    },
    "language_info": {
      "name": "python"
    }
  },
  "cells": [
    {
      "cell_type": "markdown",
      "metadata": {
        "id": "view-in-github",
        "colab_type": "text"
      },
      "source": [
        "<a href=\"https://colab.research.google.com/github/YEON2020/Algorithms_study/blob/master/Python_Test.ipynb\" target=\"_parent\"><img src=\"https://colab.research.google.com/assets/colab-badge.svg\" alt=\"Open In Colab\"/></a>"
      ]
    },
    {
      "cell_type": "code",
      "source": [
        "#라이캣의 개인정보 입력하기\n",
        "\n",
        "이름 = '캣'\n",
        "설명 = '위니브 월드 외각에 살고 있는 생선가게 주인 캣(cat)'\n",
        "나이 = 10\n",
        "오늘_잡은_물고기 = '10'\n",
        "키 = '45cm'\n",
        "몸무게 = 1.2\n",
        "육식 = True\n",
        "초식 = True\n",
        "돈 = 1000\n",
        "훈장 = []\n",
        "기술 = ['고기잡이', '고기팔기']\n",
        "\n",
        "'''\n",
        "라이캣의 개인정보입니다.\n",
        "성장함의 따라 해당 값이 변합니다.\n",
        "\n",
        "주의) 마음대로 성장시키지 마세요!\n",
        "'''"
      ],
      "metadata": {
        "colab": {
          "base_uri": "https://localhost:8080/",
          "height": 35
        },
        "id": "Uq9Dz6XsRFdo",
        "outputId": "8213df6b-1b1a-40ca-b2e5-b28355c401e9"
      },
      "execution_count": 2,
      "outputs": [
        {
          "output_type": "execute_result",
          "data": {
            "text/plain": [
              "'\\n라이캣의 개인정보입니다.\\n성장함의 따라 해당 값이 변합니다.\\n\\n주의) 마음대로 성장시키지 마세요!\\n'"
            ],
            "application/vnd.google.colaboratory.intrinsic+json": {
              "type": "string"
            }
          },
          "metadata": {},
          "execution_count": 2
        }
      ]
    },
    {
      "cell_type": "code",
      "source": [
        "이름\n",
        "나이\n",
        "print(이름)\n",
        "print(나이)"
      ],
      "metadata": {
        "colab": {
          "base_uri": "https://localhost:8080/"
        },
        "id": "iA4SXqjgSXuI",
        "outputId": "d48261ed-b6fc-44e0-d6b6-581fab5bdf06"
      },
      "execution_count": 3,
      "outputs": [
        {
          "output_type": "stream",
          "name": "stdout",
          "text": [
            "캣\n",
            "10\n"
          ]
        }
      ]
    },
    {
      "cell_type": "code",
      "source": [
        "나이 = 11\n",
        "나이"
      ],
      "metadata": {
        "colab": {
          "base_uri": "https://localhost:8080/"
        },
        "id": "mXg10wv7StWY",
        "outputId": "e83b0854-8a6a-4607-eb25-1746e4c9fa53"
      },
      "execution_count": 4,
      "outputs": [
        {
          "output_type": "execute_result",
          "data": {
            "text/plain": [
              "11"
            ]
          },
          "metadata": {},
          "execution_count": 4
        }
      ]
    },
    {
      "cell_type": "code",
      "source": [
        "나이 = 나이 + 1"
      ],
      "metadata": {
        "id": "XUZSz3JxSz6-"
      },
      "execution_count": 5,
      "outputs": []
    },
    {
      "cell_type": "code",
      "source": [
        "나이"
      ],
      "metadata": {
        "colab": {
          "base_uri": "https://localhost:8080/"
        },
        "id": "Qjmp-FG6S2sc",
        "outputId": "aaf32978-92c3-42b5-fa3e-4559ef8ffd7d"
      },
      "execution_count": 6,
      "outputs": [
        {
          "output_type": "execute_result",
          "data": {
            "text/plain": [
              "12"
            ]
          },
          "metadata": {},
          "execution_count": 6
        }
      ]
    },
    {
      "cell_type": "markdown",
      "source": [
        "## 변수의 규칙\n",
        "\n",
        "1. 변수 중간에 띄어쓰기를 하지 않습니다.\n",
        "2. 첫 글자는 숫자나 특수문자를 쓰지 않습니다.\n",
        "3. 첫 글자를 대문자로 쓰지 않습니다.\n",
        "4. 예약어를 사용하지 않습니다.\n",
        "5. 변수명은 대소문자를 가립니다!"
      ],
      "metadata": {
        "id": "TtK4LBVbTU0s"
      }
    },
    {
      "cell_type": "code",
      "source": [
        "int(오늘_잡은_물고기) + 1"
      ],
      "metadata": {
        "colab": {
          "base_uri": "https://localhost:8080/"
        },
        "id": "hV5CpnfqTOTC",
        "outputId": "730325df-6eff-468b-9c4e-0c6c22a7a6b3"
      },
      "execution_count": 7,
      "outputs": [
        {
          "output_type": "execute_result",
          "data": {
            "text/plain": [
              "11"
            ]
          },
          "metadata": {},
          "execution_count": 7
        }
      ]
    },
    {
      "cell_type": "code",
      "source": [
        "print(type(오늘_잡은_물고기))"
      ],
      "metadata": {
        "colab": {
          "base_uri": "https://localhost:8080/"
        },
        "id": "vcebs5nwUUdT",
        "outputId": "4caba8d0-8832-4329-98ff-d1e5851922d2"
      },
      "execution_count": 8,
      "outputs": [
        {
          "output_type": "stream",
          "name": "stdout",
          "text": [
            "<class 'str'>\n"
          ]
        }
      ]
    },
    {
      "cell_type": "code",
      "source": [
        "print(type(이름))\n",
        "print(type(나이))\n",
        "print(type(오늘_잡은_물고기))\n",
        "print(type(몸무게))\n",
        "print(type(육식))\n",
        "print(type(기술))"
      ],
      "metadata": {
        "colab": {
          "base_uri": "https://localhost:8080/"
        },
        "id": "3sbvhLFFUac9",
        "outputId": "bca99872-c493-4a8d-9340-7ce465e252ff"
      },
      "execution_count": 9,
      "outputs": [
        {
          "output_type": "stream",
          "name": "stdout",
          "text": [
            "<class 'str'>\n",
            "<class 'int'>\n",
            "<class 'str'>\n",
            "<class 'float'>\n",
            "<class 'bool'>\n",
            "<class 'list'>\n"
          ]
        }
      ]
    },
    {
      "cell_type": "markdown",
      "source": [
        "1. <class 'str'> - string, 문자열\n",
        "2. <class 'int'> - integer, 정수형\n",
        "3. <class 'float'> - float, 실수형\n",
        "4. <class 'bool'> - bool, boolean, 참거짓형\n",
        "5. <class 'list'> - list, 배열"
      ],
      "metadata": {
        "id": "wi8_ds6gy4PG"
      }
    },
    {
      "cell_type": "code",
      "source": [
        "#1. int\n",
        "\n",
        "print(type(나이))\n",
        "print(dir(나이))"
      ],
      "metadata": {
        "colab": {
          "base_uri": "https://localhost:8080/"
        },
        "id": "nU93uwxx6FAF",
        "outputId": "97001c1f-1834-422d-b79b-4bb31b28b874"
      },
      "execution_count": 10,
      "outputs": [
        {
          "output_type": "stream",
          "name": "stdout",
          "text": [
            "<class 'int'>\n",
            "['__abs__', '__add__', '__and__', '__bool__', '__ceil__', '__class__', '__delattr__', '__dir__', '__divmod__', '__doc__', '__eq__', '__float__', '__floor__', '__floordiv__', '__format__', '__ge__', '__getattribute__', '__getnewargs__', '__getstate__', '__gt__', '__hash__', '__index__', '__init__', '__init_subclass__', '__int__', '__invert__', '__le__', '__lshift__', '__lt__', '__mod__', '__mul__', '__ne__', '__neg__', '__new__', '__or__', '__pos__', '__pow__', '__radd__', '__rand__', '__rdivmod__', '__reduce__', '__reduce_ex__', '__repr__', '__rfloordiv__', '__rlshift__', '__rmod__', '__rmul__', '__ror__', '__round__', '__rpow__', '__rrshift__', '__rshift__', '__rsub__', '__rtruediv__', '__rxor__', '__setattr__', '__sizeof__', '__str__', '__sub__', '__subclasshook__', '__truediv__', '__trunc__', '__xor__', 'as_integer_ratio', 'bit_count', 'bit_length', 'conjugate', 'denominator', 'from_bytes', 'imag', 'numerator', 'real', 'to_bytes']\n"
          ]
        }
      ]
    },
    {
      "cell_type": "code",
      "source": [
        "나이 = 10\n",
        "print(나이.bit_length())\n",
        "print(bin(나이))\n",
        "\n",
        "나이_90년_후 = 100\n",
        "print(나이_90년_후.bit_length())\n",
        "print(bin(나이_90년_후))"
      ],
      "metadata": {
        "colab": {
          "base_uri": "https://localhost:8080/"
        },
        "id": "Rk-7OvtS6Rpc",
        "outputId": "d0164d03-0674-4410-f606-0bc1de309332"
      },
      "execution_count": 11,
      "outputs": [
        {
          "output_type": "stream",
          "name": "stdout",
          "text": [
            "4\n",
            "0b1010\n",
            "7\n",
            "0b1100100\n"
          ]
        }
      ]
    },
    {
      "cell_type": "code",
      "source": [
        "#1.2 float\n",
        "\n",
        "print(몸무게)\n",
        "print(type(몸무게))\n",
        "print(dir(몸무게))\n",
        "\n",
        "print(몸무게 + 10)"
      ],
      "metadata": {
        "colab": {
          "base_uri": "https://localhost:8080/"
        },
        "id": "7IEMcilS73vQ",
        "outputId": "ebeea036-e9ee-4b89-bc5d-2e592a3a3de7"
      },
      "execution_count": 12,
      "outputs": [
        {
          "output_type": "stream",
          "name": "stdout",
          "text": [
            "1.2\n",
            "<class 'float'>\n",
            "['__abs__', '__add__', '__bool__', '__ceil__', '__class__', '__delattr__', '__dir__', '__divmod__', '__doc__', '__eq__', '__float__', '__floor__', '__floordiv__', '__format__', '__ge__', '__getattribute__', '__getformat__', '__getnewargs__', '__getstate__', '__gt__', '__hash__', '__init__', '__init_subclass__', '__int__', '__le__', '__lt__', '__mod__', '__mul__', '__ne__', '__neg__', '__new__', '__pos__', '__pow__', '__radd__', '__rdivmod__', '__reduce__', '__reduce_ex__', '__repr__', '__rfloordiv__', '__rmod__', '__rmul__', '__round__', '__rpow__', '__rsub__', '__rtruediv__', '__setattr__', '__sizeof__', '__str__', '__sub__', '__subclasshook__', '__truediv__', '__trunc__', 'as_integer_ratio', 'conjugate', 'fromhex', 'hex', 'imag', 'is_integer', 'real']\n",
            "11.2\n"
          ]
        }
      ]
    },
    {
      "cell_type": "code",
      "source": [
        "#3. str\n",
        "#시퀀스형 자료형\n",
        "\n",
        "#index, indexing\n",
        "\n",
        "'''hello world'''\n",
        "'hello world'\n",
        "\"\"\"hello world\"\"\"\n",
        "\"hello world\"\n",
        "print(설명)\n",
        "print(설명[0])\n",
        "print(설명[1])\n",
        "print(설명[2])\n",
        "print(기술)\n",
        "print(기술[0])\n",
        "print(기술[1])\n",
        "print(설명[0])\n",
        "print(설명[0])"
      ],
      "metadata": {
        "colab": {
          "base_uri": "https://localhost:8080/"
        },
        "id": "Oh_2lk5D8L60",
        "outputId": "c75dbc23-21b7-4b77-912a-3ef5e4ab3ee2"
      },
      "execution_count": 13,
      "outputs": [
        {
          "output_type": "stream",
          "name": "stdout",
          "text": [
            "위니브 월드 외각에 살고 있는 생선가게 주인 캣(cat)\n",
            "위\n",
            "니\n",
            "브\n",
            "['고기잡이', '고기팔기']\n",
            "고기잡이\n",
            "고기팔기\n",
            "위\n",
            "위\n"
          ]
        }
      ]
    },
    {
      "cell_type": "code",
      "source": [
        "#slicing\n",
        "#변수이름[start:stop:step]\n",
        "\n",
        "print(설명)\n",
        "print(설명[0:3])\n",
        "print(설명[0:6])\n",
        "print(설명[:9])"
      ],
      "metadata": {
        "colab": {
          "base_uri": "https://localhost:8080/"
        },
        "id": "5da8kdyg9ONu",
        "outputId": "d4bdad58-1f3c-4565-c8e4-3b6630d5f954"
      },
      "execution_count": 14,
      "outputs": [
        {
          "output_type": "stream",
          "name": "stdout",
          "text": [
            "위니브 월드 외각에 살고 있는 생선가게 주인 캣(cat)\n",
            "위니브\n",
            "위니브 월드\n",
            "위니브 월드 외각\n"
          ]
        }
      ]
    },
    {
      "cell_type": "code",
      "source": [
        "캣의_생년월일 = '2220.02.22'\n",
        "생년 = 캣의_생년월일[:4]\n",
        "월 = 캣의_생년월일[5:7]\n",
        "일 = 캣의_생년월일[8:]\n",
        "print(생년, 월, 일)"
      ],
      "metadata": {
        "colab": {
          "base_uri": "https://localhost:8080/"
        },
        "id": "ivVg8aKZ9wV5",
        "outputId": "1af4c2e3-0567-40e6-bbc8-75679b0df64f"
      },
      "execution_count": 15,
      "outputs": [
        {
          "output_type": "stream",
          "name": "stdout",
          "text": [
            "2220 02 22\n"
          ]
        }
      ]
    },
    {
      "cell_type": "code",
      "source": [
        "숫자 = '123456789101112'\n",
        "print(숫자[::-1])\n",
        "print(숫자[::2])\n",
        "print(숫자[1:7:2])\n",
        "print(숫자[7:1:-1])\n",
        "print(숫자[-1])"
      ],
      "metadata": {
        "colab": {
          "base_uri": "https://localhost:8080/"
        },
        "id": "ij06HJzkahc4",
        "outputId": "50c7f20c-b0a8-4226-c293-d0c969eef3e1"
      },
      "execution_count": 16,
      "outputs": [
        {
          "output_type": "stream",
          "name": "stdout",
          "text": [
            "211101987654321\n",
            "13579012\n",
            "246\n",
            "876543\n",
            "2\n"
          ]
        }
      ]
    },
    {
      "cell_type": "code",
      "source": [
        "print(설명)\n",
        "print(type(설명))\n",
        "print(dir(설명))\n",
        "'''\n",
        "'capitalize', 'casefold', 'center', 'count', 'encode', 'endswith', 'expandtabs', 'find', 'format', 'format_map', 'index', 'isalnum', 'isalpha', 'isascii', 'isdecimal', 'isdigit', 'isidentifier', 'islower', 'isnumeric', 'isprintable', 'isspace', 'istitle', 'isupper', 'join', 'ljust', 'lower', 'lstrip', 'maketrans', 'partition', 'removeprefix', 'removesuffix', 'replace', 'rfind', 'rindex', 'rjust', 'rpartition', 'rsplit', 'rstrip', 'split', 'splitlines', 'startswith', 'strip', 'swapcase', 'title', 'translate', 'upper', 'zfill']\n",
        "'''"
      ],
      "metadata": {
        "colab": {
          "base_uri": "https://localhost:8080/",
          "height": 184
        },
        "id": "qpwHAfBYcLd4",
        "outputId": "bb87acd2-de53-4d2d-c9cd-8ec6518e77c9"
      },
      "execution_count": 17,
      "outputs": [
        {
          "output_type": "stream",
          "name": "stdout",
          "text": [
            "위니브 월드 외각에 살고 있는 생선가게 주인 캣(cat)\n",
            "<class 'str'>\n",
            "['__add__', '__class__', '__contains__', '__delattr__', '__dir__', '__doc__', '__eq__', '__format__', '__ge__', '__getattribute__', '__getitem__', '__getnewargs__', '__getstate__', '__gt__', '__hash__', '__init__', '__init_subclass__', '__iter__', '__le__', '__len__', '__lt__', '__mod__', '__mul__', '__ne__', '__new__', '__reduce__', '__reduce_ex__', '__repr__', '__rmod__', '__rmul__', '__setattr__', '__sizeof__', '__str__', '__subclasshook__', 'capitalize', 'casefold', 'center', 'count', 'encode', 'endswith', 'expandtabs', 'find', 'format', 'format_map', 'index', 'isalnum', 'isalpha', 'isascii', 'isdecimal', 'isdigit', 'isidentifier', 'islower', 'isnumeric', 'isprintable', 'isspace', 'istitle', 'isupper', 'join', 'ljust', 'lower', 'lstrip', 'maketrans', 'partition', 'removeprefix', 'removesuffix', 'replace', 'rfind', 'rindex', 'rjust', 'rpartition', 'rsplit', 'rstrip', 'split', 'splitlines', 'startswith', 'strip', 'swapcase', 'title', 'translate', 'upper', 'zfill']\n"
          ]
        },
        {
          "output_type": "execute_result",
          "data": {
            "text/plain": [
              "\"\\n'capitalize', 'casefold', 'center', 'count', 'encode', 'endswith', 'expandtabs', 'find', 'format', 'format_map', 'index', 'isalnum', 'isalpha', 'isascii', 'isdecimal', 'isdigit', 'isidentifier', 'islower', 'isnumeric', 'isprintable', 'isspace', 'istitle', 'isupper', 'join', 'ljust', 'lower', 'lstrip', 'maketrans', 'partition', 'removeprefix', 'removesuffix', 'replace', 'rfind', 'rindex', 'rjust', 'rpartition', 'rsplit', 'rstrip', 'split', 'splitlines', 'startswith', 'strip', 'swapcase', 'title', 'translate', 'upper', 'zfill']\\n\""
            ],
            "application/vnd.google.colaboratory.intrinsic+json": {
              "type": "string"
            }
          },
          "metadata": {},
          "execution_count": 17
        }
      ]
    },
    {
      "cell_type": "code",
      "source": [
        "숫자.count('1')\n",
        "설명.upper()\n",
        "설명.lower()\n",
        "'          hello world'.lstrip()\n",
        "'          hello world'.strip()\n",
        "'          hello world'.replace(' ', '!')\n",
        "print(설명.index('각'))\n",
        "print(설명[설명.index('각')])\n",
        "print(설명.find('각'))\n",
        "print(설명[설명.find('각')])"
      ],
      "metadata": {
        "colab": {
          "base_uri": "https://localhost:8080/"
        },
        "id": "wL0zSjJec072",
        "outputId": "fbd0a91c-d57a-4b34-e80f-1a2a447346a4"
      },
      "execution_count": 18,
      "outputs": [
        {
          "output_type": "stream",
          "name": "stdout",
          "text": [
            "8\n",
            "각\n",
            "8\n",
            "각\n"
          ]
        }
      ]
    },
    {
      "cell_type": "code",
      "source": [
        "#bool\n",
        "\n",
        "육식 = True\n",
        "초식 = True\n",
        "print(type(육식))\n",
        "print(dir(육식))"
      ],
      "metadata": {
        "colab": {
          "base_uri": "https://localhost:8080/"
        },
        "id": "pfQiGnXEe6n4",
        "outputId": "858ce542-c1e4-4aaa-8dac-f54a84d4c5c6"
      },
      "execution_count": 19,
      "outputs": [
        {
          "output_type": "stream",
          "name": "stdout",
          "text": [
            "<class 'bool'>\n",
            "['__abs__', '__add__', '__and__', '__bool__', '__ceil__', '__class__', '__delattr__', '__dir__', '__divmod__', '__doc__', '__eq__', '__float__', '__floor__', '__floordiv__', '__format__', '__ge__', '__getattribute__', '__getnewargs__', '__getstate__', '__gt__', '__hash__', '__index__', '__init__', '__init_subclass__', '__int__', '__invert__', '__le__', '__lshift__', '__lt__', '__mod__', '__mul__', '__ne__', '__neg__', '__new__', '__or__', '__pos__', '__pow__', '__radd__', '__rand__', '__rdivmod__', '__reduce__', '__reduce_ex__', '__repr__', '__rfloordiv__', '__rlshift__', '__rmod__', '__rmul__', '__ror__', '__round__', '__rpow__', '__rrshift__', '__rshift__', '__rsub__', '__rtruediv__', '__rxor__', '__setattr__', '__sizeof__', '__str__', '__sub__', '__subclasshook__', '__truediv__', '__trunc__', '__xor__', 'as_integer_ratio', 'bit_count', 'bit_length', 'conjugate', 'denominator', 'from_bytes', 'imag', 'numerator', 'real', 'to_bytes']\n"
          ]
        }
      ]
    },
    {
      "cell_type": "markdown",
      "source": [
        "## 1. list\n",
        "\n",
        "1. 순서가 있습니다.\n",
        "2. 수정이 가능합니다.\n",
        "3. 순회가 가능합니다.\n",
        "4. 값의 중복을 허락합니다."
      ],
      "metadata": {
        "id": "1FfPkX037-dm"
      }
    },
    {
      "cell_type": "code",
      "source": [
        "#list, tuple, dict, set\n",
        "\n",
        "#1.list\n",
        "\n",
        "훈장 = []\n",
        "기술 = ['고기잡이', '고기팔기']\n",
        "print(type(기술))\n",
        "print(dir(기술))\n",
        "'''\n",
        "'append', 'clear', 'copy', 'count', 'extend', 'index', 'insert', 'pop', 'remove', 'reverse', 'sort'\n",
        "'''"
      ],
      "metadata": {
        "id": "SZ22JQb4hfM-",
        "colab": {
          "base_uri": "https://localhost:8080/",
          "height": 92
        },
        "outputId": "aa96e6b8-e3e3-45e8-f97d-3b78823ed0e5"
      },
      "execution_count": 20,
      "outputs": [
        {
          "output_type": "stream",
          "name": "stdout",
          "text": [
            "<class 'list'>\n",
            "['__add__', '__class__', '__class_getitem__', '__contains__', '__delattr__', '__delitem__', '__dir__', '__doc__', '__eq__', '__format__', '__ge__', '__getattribute__', '__getitem__', '__getstate__', '__gt__', '__hash__', '__iadd__', '__imul__', '__init__', '__init_subclass__', '__iter__', '__le__', '__len__', '__lt__', '__mul__', '__ne__', '__new__', '__reduce__', '__reduce_ex__', '__repr__', '__reversed__', '__rmul__', '__setattr__', '__setitem__', '__sizeof__', '__str__', '__subclasshook__', 'append', 'clear', 'copy', 'count', 'extend', 'index', 'insert', 'pop', 'remove', 'reverse', 'sort']\n"
          ]
        },
        {
          "output_type": "execute_result",
          "data": {
            "text/plain": [
              "\"\\n'append', 'clear', 'copy', 'count', 'extend', 'index', 'insert', 'pop', 'remove', 'reverse', 'sort'\\n\""
            ],
            "application/vnd.google.colaboratory.intrinsic+json": {
              "type": "string"
            }
          },
          "metadata": {},
          "execution_count": 20
        }
      ]
    },
    {
      "cell_type": "code",
      "source": [
        "print(기술[0])\n",
        "print(기술[1])"
      ],
      "metadata": {
        "colab": {
          "base_uri": "https://localhost:8080/"
        },
        "id": "BNAe5Lg08kky",
        "outputId": "ca2c116a-c40e-4ffb-869b-15486d2a9ff1"
      },
      "execution_count": 21,
      "outputs": [
        {
          "output_type": "stream",
          "name": "stdout",
          "text": [
            "고기잡이\n",
            "고기팔기\n"
          ]
        }
      ]
    },
    {
      "cell_type": "code",
      "source": [
        "잡은물고기 = ['광어', '고등어', '오징어', '오징어', '광어',\n",
        "            '광어', '고등어', '고등어', '백상아리', '금붕어']\n",
        "print(잡은물고기[0])\n",
        "print(잡은물고기[:3])\n",
        "print(잡은물고기[:7:2])\n",
        "print(잡은물고기[-1])\n",
        "잡은물고기[-1] = '백상아리'\n",
        "print(잡은물고기)"
      ],
      "metadata": {
        "colab": {
          "base_uri": "https://localhost:8080/"
        },
        "id": "Mlt9PXQW865C",
        "outputId": "c4554742-327e-4057-b252-81e15654ce3a"
      },
      "execution_count": 22,
      "outputs": [
        {
          "output_type": "stream",
          "name": "stdout",
          "text": [
            "광어\n",
            "['광어', '고등어', '오징어']\n",
            "['광어', '오징어', '광어', '고등어']\n",
            "금붕어\n",
            "['광어', '고등어', '오징어', '오징어', '광어', '광어', '고등어', '고등어', '백상아리', '백상아리']\n"
          ]
        }
      ]
    },
    {
      "cell_type": "code",
      "source": [
        "print(잡은물고기.count('백상아리'))\n",
        "잡은물고기.append('백상아리')\n",
        "print(잡은물고기)\n",
        "print(잡은물고기.count('백상아리'))"
      ],
      "metadata": {
        "colab": {
          "base_uri": "https://localhost:8080/"
        },
        "id": "1Q7IvQQQ9q_D",
        "outputId": "e4bdf577-8bfd-417e-ed5e-6bc57c9b5d14"
      },
      "execution_count": 23,
      "outputs": [
        {
          "output_type": "stream",
          "name": "stdout",
          "text": [
            "2\n",
            "['광어', '고등어', '오징어', '오징어', '광어', '광어', '고등어', '고등어', '백상아리', '백상아리', '백상아리']\n",
            "3\n"
          ]
        }
      ]
    },
    {
      "cell_type": "code",
      "source": [
        "잡은물고기.extend(['광어', '고등어', '고등어'])\n",
        "print(잡은물고기)"
      ],
      "metadata": {
        "colab": {
          "base_uri": "https://localhost:8080/"
        },
        "id": "lFRBOlgG-1tK",
        "outputId": "59e726c0-b487-422f-93d8-d653cded05be"
      },
      "execution_count": 24,
      "outputs": [
        {
          "output_type": "stream",
          "name": "stdout",
          "text": [
            "['광어', '고등어', '오징어', '오징어', '광어', '광어', '고등어', '고등어', '백상아리', '백상아리', '백상아리', '광어', '고등어', '고등어']\n"
          ]
        }
      ]
    },
    {
      "cell_type": "code",
      "source": [
        "잡은물고기.index('백상아리')\n",
        "잡은물고기.insert(3, '백상아리')\n",
        "잡은물고기.pop()\n",
        "잡은물고기"
      ],
      "metadata": {
        "colab": {
          "base_uri": "https://localhost:8080/"
        },
        "id": "vPsBWTBj_GD1",
        "outputId": "a415dca3-9185-430f-c192-61206bfce5f5"
      },
      "execution_count": 25,
      "outputs": [
        {
          "output_type": "execute_result",
          "data": {
            "text/plain": [
              "['광어',\n",
              " '고등어',\n",
              " '오징어',\n",
              " '백상아리',\n",
              " '오징어',\n",
              " '광어',\n",
              " '광어',\n",
              " '고등어',\n",
              " '고등어',\n",
              " '백상아리',\n",
              " '백상아리',\n",
              " '백상아리',\n",
              " '광어',\n",
              " '고등어']"
            ]
          },
          "metadata": {},
          "execution_count": 25
        }
      ]
    },
    {
      "cell_type": "code",
      "source": [
        "잡은물고기.remove('백상아리')\n",
        "print(잡은물고기)\n",
        "잡은물고기.reverse()\n",
        "print(잡은물고기)"
      ],
      "metadata": {
        "colab": {
          "base_uri": "https://localhost:8080/"
        },
        "id": "Dh_C6wJEAqjw",
        "outputId": "c34c290a-0b41-4f32-cc07-bd483075453d"
      },
      "execution_count": 26,
      "outputs": [
        {
          "output_type": "stream",
          "name": "stdout",
          "text": [
            "['광어', '고등어', '오징어', '오징어', '광어', '광어', '고등어', '고등어', '백상아리', '백상아리', '백상아리', '광어', '고등어']\n",
            "['고등어', '광어', '백상아리', '백상아리', '백상아리', '고등어', '고등어', '광어', '광어', '오징어', '오징어', '고등어', '광어']\n"
          ]
        }
      ]
    },
    {
      "cell_type": "code",
      "source": [
        "잡은물고기.sort()\n",
        "잡은물고기"
      ],
      "metadata": {
        "colab": {
          "base_uri": "https://localhost:8080/"
        },
        "id": "uTzsPKvbN316",
        "outputId": "b9558953-6cee-40a4-be29-8df7d55062e9"
      },
      "execution_count": 27,
      "outputs": [
        {
          "output_type": "execute_result",
          "data": {
            "text/plain": [
              "['고등어',\n",
              " '고등어',\n",
              " '고등어',\n",
              " '고등어',\n",
              " '광어',\n",
              " '광어',\n",
              " '광어',\n",
              " '광어',\n",
              " '백상아리',\n",
              " '백상아리',\n",
              " '백상아리',\n",
              " '오징어',\n",
              " '오징어']"
            ]
          },
          "metadata": {},
          "execution_count": 27
        }
      ]
    },
    {
      "cell_type": "markdown",
      "source": [
        "## 2. tuple\n",
        "\n",
        "1. 순서가 있다.\n",
        "2. 값의 변화를 줄 수 없다."
      ],
      "metadata": {
        "id": "UhEkWirCOCLR"
      }
    },
    {
      "cell_type": "code",
      "source": [
        "잡은물고기_tuple = ('고등어', '고등어', '고등어', '광어', '광어', '광어', '백상아리', '오징어', '오징어')\n",
        "print(type(잡은물고기_tuple))\n",
        "print(dir(잡은물고기_tuple))\n",
        "print(잡은물고기_tuple[0])\n",
        "print(잡은물고기_tuple[::-1])"
      ],
      "metadata": {
        "colab": {
          "base_uri": "https://localhost:8080/"
        },
        "id": "gf8f-E9tOZlk",
        "outputId": "16c1fc82-8281-45ec-823d-33db0ef3a514"
      },
      "execution_count": 28,
      "outputs": [
        {
          "output_type": "stream",
          "name": "stdout",
          "text": [
            "<class 'tuple'>\n",
            "['__add__', '__class__', '__class_getitem__', '__contains__', '__delattr__', '__dir__', '__doc__', '__eq__', '__format__', '__ge__', '__getattribute__', '__getitem__', '__getnewargs__', '__getstate__', '__gt__', '__hash__', '__init__', '__init_subclass__', '__iter__', '__le__', '__len__', '__lt__', '__mul__', '__ne__', '__new__', '__reduce__', '__reduce_ex__', '__repr__', '__rmul__', '__setattr__', '__sizeof__', '__str__', '__subclasshook__', 'count', 'index']\n",
            "고등어\n",
            "('오징어', '오징어', '백상아리', '광어', '광어', '광어', '고등어', '고등어', '고등어')\n"
          ]
        }
      ]
    },
    {
      "cell_type": "markdown",
      "source": [
        "## 3. 딕셔너리\n",
        "\n",
        "1. 순서가 없다.\n",
        "2. 키 값의 중복을 허락하지 않는다.\n",
        "3. 값의 중복은 가능하다.\n",
        "4. 순회는 가능하다."
      ],
      "metadata": {
        "id": "9G49n83H3nv0"
      }
    },
    {
      "cell_type": "code",
      "source": [
        "# Dictionary의 구조\n",
        "#dic = {'key' : 'value'}\n",
        "\n",
        "잡은물고기_dic = {'광어' : 3, '고등어' : 3, '오징어' : 2, '백상아리' : 1}"
      ],
      "metadata": {
        "id": "5F2DRDjUOyil"
      },
      "execution_count": 46,
      "outputs": []
    },
    {
      "cell_type": "code",
      "source": [
        "잡은물고기_dic['광어']\n",
        "del 잡은물고기_dic['고등어']"
      ],
      "metadata": {
        "id": "LbJjqQVg4TBA"
      },
      "execution_count": 47,
      "outputs": []
    },
    {
      "cell_type": "code",
      "source": [
        "잡은물고기_dic.items()"
      ],
      "metadata": {
        "colab": {
          "base_uri": "https://localhost:8080/"
        },
        "id": "F5qp_r7x7zIh",
        "outputId": "7654c39f-cf7c-41d0-b74d-55c6b005574f"
      },
      "execution_count": 49,
      "outputs": [
        {
          "output_type": "execute_result",
          "data": {
            "text/plain": [
              "dict_items([('광어', 3), ('오징어', 2), ('백상아리', 1)])"
            ]
          },
          "metadata": {},
          "execution_count": 49
        }
      ]
    },
    {
      "cell_type": "code",
      "source": [
        "잡은물고기_dic.values()"
      ],
      "metadata": {
        "colab": {
          "base_uri": "https://localhost:8080/"
        },
        "id": "lGHlhs2E8BFx",
        "outputId": "b1fe2383-643e-4033-d0d4-6e06a5dbc6d7"
      },
      "execution_count": 50,
      "outputs": [
        {
          "output_type": "execute_result",
          "data": {
            "text/plain": [
              "dict_values([3, 2, 1])"
            ]
          },
          "metadata": {},
          "execution_count": 50
        }
      ]
    },
    {
      "cell_type": "code",
      "source": [
        "잡은물고기_dic.keys()"
      ],
      "metadata": {
        "colab": {
          "base_uri": "https://localhost:8080/"
        },
        "id": "O-L_2QD38Tth",
        "outputId": "b4c4eccb-3fe5-4e0b-ba95-9b935af0ed6d"
      },
      "execution_count": 52,
      "outputs": [
        {
          "output_type": "execute_result",
          "data": {
            "text/plain": [
              "dict_keys(['광어', '오징어', '백상아리'])"
            ]
          },
          "metadata": {},
          "execution_count": 52
        }
      ]
    },
    {
      "cell_type": "code",
      "source": [
        "잡은물고기_dic_copy = 잡은물고기_dic.copy()\n",
        "잡은물고기_dic_copy['백상아리'] = 10\n",
        "잡은물고기_dic_copy"
      ],
      "metadata": {
        "colab": {
          "base_uri": "https://localhost:8080/"
        },
        "id": "Vds6VlXB8ZAB",
        "outputId": "e7ca1497-7917-40d2-a61c-feda183976b9"
      },
      "execution_count": 54,
      "outputs": [
        {
          "output_type": "execute_result",
          "data": {
            "text/plain": [
              "{'광어': 3, '오징어': 2, '백상아리': 10}"
            ]
          },
          "metadata": {},
          "execution_count": 54
        }
      ]
    },
    {
      "cell_type": "code",
      "source": [
        "잡은물고기_dic"
      ],
      "metadata": {
        "colab": {
          "base_uri": "https://localhost:8080/"
        },
        "id": "4t-heP6T9I-R",
        "outputId": "de4f2ef3-cb54-478b-a5a0-158a9249d25b"
      },
      "execution_count": 55,
      "outputs": [
        {
          "output_type": "execute_result",
          "data": {
            "text/plain": [
              "{'광어': 3, '오징어': 2, '백상아리': 1}"
            ]
          },
          "metadata": {},
          "execution_count": 55
        }
      ]
    },
    {
      "cell_type": "markdown",
      "source": [
        "## 4. set\n",
        "\n",
        "1. 순서가 없다.\n",
        "2. 값의 중복을 허락하지 않는다.\n",
        "3. 차집합, 교집합, 합집합 등의 연산이 가능하다."
      ],
      "metadata": {
        "id": "fmfBBIH29VVd"
      }
    },
    {
      "cell_type": "code",
      "source": [
        "잡은물고기"
      ],
      "metadata": {
        "colab": {
          "base_uri": "https://localhost:8080/"
        },
        "id": "k4mZDwtd9QAi",
        "outputId": "6ae39d98-6656-45ff-e5e1-3748f1460801"
      },
      "execution_count": 56,
      "outputs": [
        {
          "output_type": "execute_result",
          "data": {
            "text/plain": [
              "['고등어',\n",
              " '고등어',\n",
              " '고등어',\n",
              " '고등어',\n",
              " '광어',\n",
              " '광어',\n",
              " '광어',\n",
              " '광어',\n",
              " '백상아리',\n",
              " '백상아리',\n",
              " '백상아리',\n",
              " '오징어',\n",
              " '오징어']"
            ]
          },
          "metadata": {},
          "execution_count": 56
        }
      ]
    },
    {
      "cell_type": "code",
      "source": [
        "test = set(잡은물고기)\n",
        "test"
      ],
      "metadata": {
        "colab": {
          "base_uri": "https://localhost:8080/"
        },
        "id": "SyJOusD09xy2",
        "outputId": "8a65d4c3-348b-43cd-ee37-3c9bf0ffb8f5"
      },
      "execution_count": 74,
      "outputs": [
        {
          "output_type": "execute_result",
          "data": {
            "text/plain": [
              "{'고등어', '광어', '백상아리', '오징어'}"
            ]
          },
          "metadata": {},
          "execution_count": 74
        }
      ]
    },
    {
      "cell_type": "code",
      "source": [
        "잡은물고기_집합 = {'고등어', '대왕오징어', '광어', '백상아리', '오징어', '오징어', '백상아리', '광어'}\n",
        "잡은물고기_집합"
      ],
      "metadata": {
        "colab": {
          "base_uri": "https://localhost:8080/"
        },
        "id": "sAE3khhi95Ll",
        "outputId": "88a62b7c-c139-459b-a08f-d451e45c2a17"
      },
      "execution_count": 75,
      "outputs": [
        {
          "output_type": "execute_result",
          "data": {
            "text/plain": [
              "{'고등어', '광어', '대왕오징어', '백상아리', '오징어'}"
            ]
          },
          "metadata": {},
          "execution_count": 75
        }
      ]
    },
    {
      "cell_type": "code",
      "source": [
        "print(type(잡은물고기_집합))\n",
        "print(dir(잡은물고기_집합))\n",
        "test.difference(잡은물고기_집합)\n",
        "test.intersection(잡은물고기_집합)\n",
        "test.union(잡은물고기_집합)"
      ],
      "metadata": {
        "colab": {
          "base_uri": "https://localhost:8080/"
        },
        "id": "pnrksLZd-N3x",
        "outputId": "ec55f3bf-90d8-47a7-dc90-18c77635188e"
      },
      "execution_count": 78,
      "outputs": [
        {
          "output_type": "stream",
          "name": "stdout",
          "text": [
            "<class 'set'>\n",
            "['__and__', '__class__', '__class_getitem__', '__contains__', '__delattr__', '__dir__', '__doc__', '__eq__', '__format__', '__ge__', '__getattribute__', '__getstate__', '__gt__', '__hash__', '__iand__', '__init__', '__init_subclass__', '__ior__', '__isub__', '__iter__', '__ixor__', '__le__', '__len__', '__lt__', '__ne__', '__new__', '__or__', '__rand__', '__reduce__', '__reduce_ex__', '__repr__', '__ror__', '__rsub__', '__rxor__', '__setattr__', '__sizeof__', '__str__', '__sub__', '__subclasshook__', '__xor__', 'add', 'clear', 'copy', 'difference', 'difference_update', 'discard', 'intersection', 'intersection_update', 'isdisjoint', 'issubset', 'issuperset', 'pop', 'remove', 'symmetric_difference', 'symmetric_difference_update', 'union', 'update']\n"
          ]
        },
        {
          "output_type": "execute_result",
          "data": {
            "text/plain": [
              "{'고등어', '광어', '대왕오징어', '백상아리', '오징어'}"
            ]
          },
          "metadata": {},
          "execution_count": 78
        }
      ]
    },
    {
      "cell_type": "code",
      "source": [
        "set('aaaabbbccc')"
      ],
      "metadata": {
        "colab": {
          "base_uri": "https://localhost:8080/"
        },
        "id": "AdfPgjHl-gbi",
        "outputId": "47abb1f9-ebce-45cb-b635-62f20402cf2e"
      },
      "execution_count": 79,
      "outputs": [
        {
          "output_type": "execute_result",
          "data": {
            "text/plain": [
              "{'a', 'b', 'c'}"
            ]
          },
          "metadata": {},
          "execution_count": 79
        }
      ]
    },
    {
      "cell_type": "code",
      "source": [],
      "metadata": {
        "id": "AeiQf58H_4hC"
      },
      "execution_count": null,
      "outputs": []
    }
  ]
}